{
 "cells": [
  {
   "cell_type": "code",
   "execution_count": 5,
   "id": "6724eb8d-cee8-4ad4-8d26-685c8f52dcaf",
   "metadata": {},
   "outputs": [
    {
     "name": "stdout",
     "output_type": "stream",
     "text": [
      "CSV file 'output.csv' has been created successfully.\n"
     ]
    }
   ],
   "source": [
    "import csv\n",
    "import re\n",
    "\n",
    "# Read the data from a text file\n",
    "input_file = \"Precipitation gauge coordinate.txt\"  # Change this to your actual filename\n",
    "with open(input_file, \"r\", encoding=\"utf-8\") as file:\n",
    "    data = file.read()\n",
    "\n",
    "# Regular expression to extract name, longitude, latitude, and altitude\n",
    "pattern = re.compile(r'<name>(.*?)</name>|<longitude>(.*?)</longitude>|<latitude>(.*?)</latitude>|<altitude>(.*?)</altitude>')\n",
    "\n",
    "rows = []\n",
    "current_row = {}\n",
    "\n",
    "for match in pattern.finditer(data):\n",
    "    name, lon, lat, alt = match.groups()\n",
    "    \n",
    "    if name:\n",
    "        if current_row:  # If a row is already populated, store it\n",
    "            rows.append(current_row)\n",
    "        current_row = {'name': name}  # Start a new row\n",
    "    if lon:\n",
    "        current_row['longitude'] = lon\n",
    "    if lat:\n",
    "        current_row['latitude'] = lat\n",
    "    if alt:\n",
    "        current_row['altitude'] = alt\n",
    "\n",
    "# Append the last entry\n",
    "if current_row:\n",
    "    rows.append(current_row)\n",
    "\n",
    "# Define CSV file and headers\n",
    "csv_file = \"output.csv\"\n",
    "headers = ['name', 'longitude', 'latitude', 'altitude']\n",
    "\n",
    "# Write to CSV\n",
    "with open(csv_file, mode='w', newline='') as file:\n",
    "    writer = csv.DictWriter(file, fieldnames=headers)\n",
    "    writer.writeheader()\n",
    "    writer.writerows(rows)\n",
    "\n",
    "# print(f\"CSV file '{csv_file}' has been created successfully.\")"
   ]
  },
  {
   "cell_type": "code",
   "execution_count": null,
   "id": "70842f85-57e9-43b2-96cd-3e56647e57d8",
   "metadata": {},
   "outputs": [],
   "source": []
  }
 ],
 "metadata": {
  "kernelspec": {
   "display_name": "Python 3 (ipykernel)",
   "language": "python",
   "name": "python3"
  },
  "language_info": {
   "codemirror_mode": {
    "name": "ipython",
    "version": 3
   },
   "file_extension": ".py",
   "mimetype": "text/x-python",
   "name": "python",
   "nbconvert_exporter": "python",
   "pygments_lexer": "ipython3",
   "version": "3.12.7"
  }
 },
 "nbformat": 4,
 "nbformat_minor": 5
}
