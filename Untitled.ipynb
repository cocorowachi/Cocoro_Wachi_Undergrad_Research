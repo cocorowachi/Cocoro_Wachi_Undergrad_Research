{
 "cells": [
  {
   "cell_type": "code",
   "execution_count": 39,
   "id": "8881da48-d424-42ac-a178-23b9e8b1976e",
   "metadata": {},
   "outputs": [],
   "source": [
    "import math\n",
    "def c(i, j):\n",
    "    print(math.factorial(i)/(math.factorial(j)*math.factorial(i-j)))\n",
    "    return math.factorial(i)/(math.factorial(j)*math.factorial(i-j))\n",
    "def p(x,n,p):\n",
    "    print(c(n,x)*(p**x)*((1-p)**(n-x)))\n",
    "    return (c(n,x)*(p**x)*((1-p)**(n-x)))"
   ]
  },
  {
   "cell_type": "code",
   "execution_count": 27,
   "id": "dc316990-df27-4299-a47d-7ce35e1421f8",
   "metadata": {},
   "outputs": [
    {
     "name": "stdout",
     "output_type": "stream",
     "text": [
      "56.0\n"
     ]
    },
    {
     "data": {
      "text/plain": [
       "56.0"
      ]
     },
     "execution_count": 27,
     "metadata": {},
     "output_type": "execute_result"
    }
   ],
   "source": [
    "c(8,5)"
   ]
  },
  {
   "cell_type": "code",
   "execution_count": 28,
   "id": "086422b8-3be1-47a0-860f-4db716105531",
   "metadata": {},
   "outputs": [
    {
     "data": {
      "text/plain": [
       "0.12386304000000002"
      ]
     },
     "execution_count": 28,
     "metadata": {},
     "output_type": "execute_result"
    }
   ],
   "source": [
    "56*0.4**5*0.6**3"
   ]
  },
  {
   "cell_type": "code",
   "execution_count": 29,
   "id": "dcf2ed5e-fdd0-4454-997f-f20e45d8cd16",
   "metadata": {},
   "outputs": [
    {
     "name": "stdout",
     "output_type": "stream",
     "text": [
      "28.0\n"
     ]
    },
    {
     "data": {
      "text/plain": [
       "28.0"
      ]
     },
     "execution_count": 29,
     "metadata": {},
     "output_type": "execute_result"
    }
   ],
   "source": [
    "c(8,6)"
   ]
  },
  {
   "cell_type": "code",
   "execution_count": 30,
   "id": "b5cf63b1-06a3-420f-b260-efef31c44ae2",
   "metadata": {},
   "outputs": [
    {
     "data": {
      "text/plain": [
       "0.041287680000000014"
      ]
     },
     "execution_count": 30,
     "metadata": {},
     "output_type": "execute_result"
    }
   ],
   "source": [
    "28*0.4**6*0.6**2"
   ]
  },
  {
   "cell_type": "code",
   "execution_count": 35,
   "id": "9e0a4935-3a80-4612-a775-c4320eb1c897",
   "metadata": {},
   "outputs": [
    {
     "name": "stdout",
     "output_type": "stream",
     "text": [
      "35.0\n",
      "0.29030400000000006\n"
     ]
    }
   ],
   "source": [
    "p(3,7,0.4)"
   ]
  },
  {
   "cell_type": "code",
   "execution_count": 36,
   "id": "222fd863-4a11-4535-a970-2b27c82990ea",
   "metadata": {},
   "outputs": [
    {
     "name": "stdout",
     "output_type": "stream",
     "text": [
      "35.0\n",
      "0.193536\n"
     ]
    }
   ],
   "source": [
    "p(4,7,0.4)"
   ]
  },
  {
   "cell_type": "code",
   "execution_count": 37,
   "id": "2efd7b98-708c-4540-8bc2-6e0f55335368",
   "metadata": {},
   "outputs": [
    {
     "name": "stdout",
     "output_type": "stream",
     "text": [
      "21.0\n",
      "0.07741440000000002\n"
     ]
    }
   ],
   "source": [
    "p(5,7,0.4)"
   ]
  },
  {
   "cell_type": "code",
   "execution_count": 40,
   "id": "1f5b6091-525a-46c9-8de7-75d66acbb0ca",
   "metadata": {},
   "outputs": [
    {
     "name": "stdout",
     "output_type": "stream",
     "text": [
      "21.0\n",
      "0.07741440000000002\n",
      "21.0\n",
      "35.0\n",
      "0.193536\n",
      "35.0\n",
      "35.0\n",
      "0.29030400000000006\n",
      "35.0\n"
     ]
    },
    {
     "data": {
      "text/plain": [
       "0.5612544000000002"
      ]
     },
     "execution_count": 40,
     "metadata": {},
     "output_type": "execute_result"
    }
   ],
   "source": [
    "p(5,7,0.4) + p(4,7,0.4) + p(3,7,0.4)"
   ]
  },
  {
   "cell_type": "code",
   "execution_count": 41,
   "id": "f7be065c-3b78-4e16-aa40-4658dd1f9cea",
   "metadata": {},
   "outputs": [
    {
     "ename": "ValueError",
     "evalue": "factorial() not defined for negative values",
     "output_type": "error",
     "traceback": [
      "\u001b[1;31m---------------------------------------------------------------------------\u001b[0m",
      "\u001b[1;31mValueError\u001b[0m                                Traceback (most recent call last)",
      "Cell \u001b[1;32mIn[41], line 1\u001b[0m\n\u001b[1;32m----> 1\u001b[0m \u001b[43mp\u001b[49m\u001b[43m(\u001b[49m\u001b[38;5;241;43m9\u001b[39;49m\u001b[43m,\u001b[49m\u001b[38;5;241;43m0\u001b[39;49m\u001b[43m,\u001b[49m\u001b[38;5;241;43m0.2\u001b[39;49m\u001b[43m)\u001b[49m\n",
      "Cell \u001b[1;32mIn[39], line 6\u001b[0m, in \u001b[0;36mp\u001b[1;34m(x, n, p)\u001b[0m\n\u001b[0;32m      5\u001b[0m \u001b[38;5;28;01mdef\u001b[39;00m \u001b[38;5;21mp\u001b[39m(x,n,p):\n\u001b[1;32m----> 6\u001b[0m     \u001b[38;5;28mprint\u001b[39m(\u001b[43mc\u001b[49m\u001b[43m(\u001b[49m\u001b[43mn\u001b[49m\u001b[43m,\u001b[49m\u001b[43mx\u001b[49m\u001b[43m)\u001b[49m\u001b[38;5;241m*\u001b[39m(p\u001b[38;5;241m*\u001b[39m\u001b[38;5;241m*\u001b[39mx)\u001b[38;5;241m*\u001b[39m((\u001b[38;5;241m1\u001b[39m\u001b[38;5;241m-\u001b[39mp)\u001b[38;5;241m*\u001b[39m\u001b[38;5;241m*\u001b[39m(n\u001b[38;5;241m-\u001b[39mx)))\n\u001b[0;32m      7\u001b[0m     \u001b[38;5;28;01mreturn\u001b[39;00m (c(n,x)\u001b[38;5;241m*\u001b[39m(p\u001b[38;5;241m*\u001b[39m\u001b[38;5;241m*\u001b[39mx)\u001b[38;5;241m*\u001b[39m((\u001b[38;5;241m1\u001b[39m\u001b[38;5;241m-\u001b[39mp)\u001b[38;5;241m*\u001b[39m\u001b[38;5;241m*\u001b[39m(n\u001b[38;5;241m-\u001b[39mx)))\n",
      "Cell \u001b[1;32mIn[39], line 3\u001b[0m, in \u001b[0;36mc\u001b[1;34m(i, j)\u001b[0m\n\u001b[0;32m      2\u001b[0m \u001b[38;5;28;01mdef\u001b[39;00m \u001b[38;5;21mc\u001b[39m(i, j):\n\u001b[1;32m----> 3\u001b[0m     \u001b[38;5;28mprint\u001b[39m(math\u001b[38;5;241m.\u001b[39mfactorial(i)\u001b[38;5;241m/\u001b[39m(math\u001b[38;5;241m.\u001b[39mfactorial(j)\u001b[38;5;241m*\u001b[39m\u001b[43mmath\u001b[49m\u001b[38;5;241;43m.\u001b[39;49m\u001b[43mfactorial\u001b[49m\u001b[43m(\u001b[49m\u001b[43mi\u001b[49m\u001b[38;5;241;43m-\u001b[39;49m\u001b[43mj\u001b[49m\u001b[43m)\u001b[49m))\n\u001b[0;32m      4\u001b[0m     \u001b[38;5;28;01mreturn\u001b[39;00m math\u001b[38;5;241m.\u001b[39mfactorial(i)\u001b[38;5;241m/\u001b[39m(math\u001b[38;5;241m.\u001b[39mfactorial(j)\u001b[38;5;241m*\u001b[39mmath\u001b[38;5;241m.\u001b[39mfactorial(i\u001b[38;5;241m-\u001b[39mj))\n",
      "\u001b[1;31mValueError\u001b[0m: factorial() not defined for negative values"
     ]
    }
   ],
   "source": [
    "p(9,0,0.2)"
   ]
  },
  {
   "cell_type": "code",
   "execution_count": 42,
   "id": "03d6bb3d-a0b4-4929-a9b0-4aa509cba5bb",
   "metadata": {},
   "outputs": [
    {
     "data": {
      "text/plain": [
       "0.13421772800000006"
      ]
     },
     "execution_count": 42,
     "metadata": {},
     "output_type": "execute_result"
    }
   ],
   "source": [
    "0.8**9"
   ]
  },
  {
   "cell_type": "code",
   "execution_count": null,
   "id": "b77d07ea-c2bb-4691-8fde-dc8378e9ad3b",
   "metadata": {},
   "outputs": [],
   "source": []
  }
 ],
 "metadata": {
  "kernelspec": {
   "display_name": "Python 3 (ipykernel)",
   "language": "python",
   "name": "python3"
  },
  "language_info": {
   "codemirror_mode": {
    "name": "ipython",
    "version": 3
   },
   "file_extension": ".py",
   "mimetype": "text/x-python",
   "name": "python",
   "nbconvert_exporter": "python",
   "pygments_lexer": "ipython3",
   "version": "3.12.7"
  }
 },
 "nbformat": 4,
 "nbformat_minor": 5
}
